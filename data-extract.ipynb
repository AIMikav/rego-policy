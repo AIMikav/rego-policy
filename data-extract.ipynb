{
 "cells": [
  {
   "cell_type": "markdown",
   "id": "599557c9",
   "metadata": {},
   "source": [
    "### Rego Policy Extractor\n",
    "\n",
    "This notebook extracts Rego policy codes from the Red Hat Community of Practice rego-policies repository.\n",
    "\n",
    "**Target URL:** https://github.com/redhat-cop/rego-policies/blob/main/POLICIES.md"
   ]
  },
  {
   "cell_type": "code",
   "execution_count": 3,
   "id": "309fc296",
   "metadata": {},
   "outputs": [],
   "source": [
    "# Step 1: Import required libraries\n",
    "import requests\n",
    "import re\n",
    "import os\n",
    "from pathlib import Path\n",
    "import json\n",
    "from bs4 import BeautifulSoup\n",
    "import time\n"
   ]
  },
  {
   "cell_type": "code",
   "execution_count": 5,
   "id": "f899fa87",
   "metadata": {},
   "outputs": [],
   "source": [
    "# Step 2: Fetch the GitHub page content\n",
    "def fetch_github_page(url):\n",
    "    \"\"\"\n",
    "    Fetch content from GitHub page using the raw content URL\n",
    "    \"\"\"\n",
    "    # Convert GitHub blob URL to raw URL\n",
    "    raw_url = url.replace('github.com', 'raw.githubusercontent.com').replace('/blob/', '/')\n",
    "\n",
    "    \n",
    "    try:\n",
    "        # Add headers to mimic a browser request\n",
    "        headers = {\n",
    "            'User-Agent': 'Mozilla/5.0 (Macintosh; Intel Mac OS X 10_15_7) AppleWebKit/537.36 (KHTML, like Gecko) Chrome/91.0.4472.124 Safari/537.36'\n",
    "        }\n",
    "        \n",
    "        # Try with SSL verification first\n",
    "        try:\n",
    "            response = requests.get(raw_url, headers=headers, timeout=30, verify=True)\n",
    "            response.raise_for_status()\n",
    "        except (OSError, requests.exceptions.SSLError) as ssl_error:\n",
    "            response = requests.get(raw_url, headers=headers, timeout=30, verify=False)\n",
    "            response.raise_for_status()\n",
    "        return response.text\n",
    "        \n",
    "    except requests.exceptions.RequestException as e:\n",
    "        return None"
   ]
  },
  {
   "cell_type": "code",
   "execution_count": 7,
   "id": "e91cb640",
   "metadata": {},
   "outputs": [
    {
     "name": "stdout",
     "output_type": "stream",
     "text": [
      "# Policies\n",
      "\n",
      "## Violations\n",
      "\n",
      "* [RHCOP\\-COMBINE\\-00001: Namespace has a NetworkPolicy](#rhcop-combine-00001-namespace-has-a-networkpolicy)\n",
      "* [RHCOP\\-COMBINE\\-00002: Namespace has a ResourceQuota](#rhcop-combine-00002-namespace-has-a-resourcequota)\n",
      "* [RHCOP\\-OCP\\_BESTPRACT\\-00001: Common k8s labels are set](#rhcop-ocp_bestpract-00001-common-k8s-labels-are-set)\n",
      "* [RHCOP\\-OCP\\_BESTPRACT\\-00002: Container env has CONTAINER\\_MAX\\_MEMORY set](#rhcop-ocp_bestpract-00002-container-env-has-container_max_mem\n"
     ]
    },
    {
     "name": "stderr",
     "output_type": "stream",
     "text": [
      "/opt/homebrew/anaconda3/lib/python3.12/site-packages/urllib3/connectionpool.py:1099: InsecureRequestWarning: Unverified HTTPS request is being made to host 'raw.githubusercontent.com'. Adding certificate verification is strongly advised. See: https://urllib3.readthedocs.io/en/latest/advanced-usage.html#tls-warnings\n",
      "  warnings.warn(\n"
     ]
    }
   ],
   "source": [
    "# Target URL\n",
    "target_url = \"https://github.com/redhat-cop/rego-policies/blob/main/POLICIES.md\"\n",
    "\n",
    "# Fetch the page content\n",
    "page_content = fetch_github_page(target_url)\n",
    "\n",
    "if page_content:\n",
    "    print(page_content[:500])\n",
    "else:\n",
    "    print(\"Failed to fetch page content\")\n",
    "\n"
   ]
  },
  {
   "cell_type": "code",
   "execution_count": 8,
   "id": "4426246c",
   "metadata": {},
   "outputs": [],
   "source": [
    "# Step 3: Parse and extract Rego policy codes\n",
    "def extract_rego_policies(content):\n",
    "    \"\"\"\n",
    "    Extract Rego policy codes from markdown content\n",
    "    \"\"\"\n",
    "    if not content:\n",
    "        return []\n",
    "    \n",
    "    policies = []\n",
    "    \n",
    "    code_block_pattern = r'```(?:rego)?\\s*\\n(.*?)\\n```'\n",
    "    \n",
    "    # Find all code blocks\n",
    "    code_blocks = re.findall(code_block_pattern, content, re.DOTALL | re.IGNORECASE)\n",
    "    \n",
    "    \n",
    "    for i, block in enumerate(code_blocks):\n",
    "        # Clean up the block\n",
    "        block = block.strip()\n",
    "        \n",
    "        policy_name = 'policy' + str(i)\n",
    "        policies.append({\n",
    "            'name': policy_name,\n",
    "            'content': block,\n",
    "            'index': i\n",
    "        })\n",
    "    \n",
    "    return policies\n"
   ]
  },
  {
   "cell_type": "code",
   "execution_count": 17,
   "id": "56c102ff",
   "metadata": {},
   "outputs": [],
   "source": [
    "# # Extract policies from the fetched content\n",
    "# if page_content:\n",
    "#     rego_policies = extract_rego_policies(page_content)\n",
    "    \n",
    "    \n",
    "#     if rego_policies:\n",
    "#         for i, policy in enumerate(rego_policies, 1):\n",
    "#             print(f\"{i}. {policy['name']}\")\n",
    "#     else:\n",
    "#         print(\"No Rego policies found in the content\")\n",
    "# else:\n",
    "#     print(\"Cannot extract policies - no content available\")\n",
    "#     rego_policies = []"
   ]
  },
  {
   "cell_type": "code",
   "execution_count": null,
   "id": "15d027ff",
   "metadata": {},
   "outputs": [
    {
     "data": {
      "text/plain": [
       "'package combine.namespace_has_networkpolicy\\n\\nimport future.keywords.in\\n\\nimport data.lib.konstraint.core as konstraint_core\\n\\nviolation[msg] {\\n  some manifests in input\\n  some namespace in manifests\\n\\n  lower(namespace.apiVersion) == \"v1\"\\n  lower(namespace.kind) == \"namespace\"\\n\\n  not _has_networkpolicy(manifests)\\n\\n  msg := konstraint_core.format_with_id(sprintf(\"%s/%s does not have a networking.k8s.io/v1:NetworkPolicy. See: https://docs.openshift.com/container-platform/4.6/networking/network_policy/about-network-policy.html\", [namespace.kind, namespace.metadata.name]), \"RHCOP-COMBINE-00001\")\\n}\\n\\n_has_networkpolicy(manifests) {\\n  some current in manifests\\n\\n  lower(current.apiVersion) == \"networking.k8s.io/v1\"\\n  lower(current.kind) == \"networkpolicy\"\\n}'"
      ]
     },
     "execution_count": 15,
     "metadata": {},
     "output_type": "execute_result"
    }
   ],
   "source": [
    "rego_policies = extract_rego_policies(page_content)\n",
    "rego_policies[0]['content']"
   ]
  },
  {
   "cell_type": "code",
   "execution_count": 16,
   "id": "65a6aadc",
   "metadata": {},
   "outputs": [],
   "source": [
    "# Create data directory if it doesn't exist\n",
    "data_dir = Path(\"data\")\n",
    "data_dir.mkdir(exist_ok=True)\n",
    "\n",
    "# Write each policy to a separate .rego file\n",
    "for i, policy in enumerate(rego_policies):\n",
    "    filename = f\"policy_{i}.rego\"\n",
    "    filepath = data_dir / filename\n",
    "    \n",
    "    with open(filepath, 'w') as f:\n",
    "        f.write(policy['content'])"
   ]
  },
  {
   "cell_type": "code",
   "execution_count": null,
   "id": "95474b1b",
   "metadata": {},
   "outputs": [],
   "source": []
  }
 ],
 "metadata": {
  "kernelspec": {
   "display_name": "Python 3",
   "language": "python",
   "name": "python3"
  },
  "language_info": {
   "codemirror_mode": {
    "name": "ipython",
    "version": 3
   },
   "file_extension": ".py",
   "mimetype": "text/x-python",
   "name": "python",
   "nbconvert_exporter": "python",
   "pygments_lexer": "ipython3",
   "version": "3.12.7"
  }
 },
 "nbformat": 4,
 "nbformat_minor": 5
}
