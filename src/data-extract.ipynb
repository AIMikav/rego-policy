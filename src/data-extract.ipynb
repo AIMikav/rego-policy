{
 "cells": [
  {
   "cell_type": "markdown",
   "id": "599557c9",
   "metadata": {},
   "source": [
    "### Rego Policy Extractor\n",
    "\n",
    "This notebook extracts Rego policy codes from the Red Hat Community of Practice rego-policies repository.\n",
    "\n",
    "**Target URL:** https://github.com/redhat-cop/rego-policies/blob/main/POLICIES.md"
   ]
  },
  {
   "cell_type": "code",
   "execution_count": 5,
   "id": "309fc296",
   "metadata": {},
   "outputs": [],
   "source": [
    "# Step 1: Import required libraries\n",
    "import requests\n",
    "import re\n",
    "import os\n",
    "from pathlib import Path\n",
    "import json\n",
    "from bs4 import BeautifulSoup\n",
    "import time\n"
   ]
  },
  {
   "cell_type": "code",
   "execution_count": 6,
   "id": "f899fa87",
   "metadata": {},
   "outputs": [],
   "source": [
    "# Step 2: Fetch the GitHub page content\n",
    "def fetch_github_page(url):\n",
    "    \"\"\"\n",
    "    Fetch content from GitHub page using the raw content URL\n",
    "    \"\"\"\n",
    "    # Convert GitHub blob URL to raw URL\n",
    "    raw_url = url.replace('github.com', 'raw.githubusercontent.com').replace('/blob/', '/')\n",
    "\n",
    "    \n",
    "    try:\n",
    "        # Add headers to mimic a browser request\n",
    "        headers = {\n",
    "            'User-Agent': 'Mozilla/5.0 (Macintosh; Intel Mac OS X 10_15_7) AppleWebKit/537.36 (KHTML, like Gecko) Chrome/91.0.4472.124 Safari/537.36'\n",
    "        }\n",
    "        \n",
    "        # Try with SSL verification first\n",
    "        try:\n",
    "            response = requests.get(raw_url, headers=headers, timeout=30, verify=True)\n",
    "            response.raise_for_status()\n",
    "        except (OSError, requests.exceptions.SSLError) as ssl_error:\n",
    "            response = requests.get(raw_url, headers=headers, timeout=30, verify=False)\n",
    "            response.raise_for_status()\n",
    "        return response.text\n",
    "        \n",
    "    except requests.exceptions.RequestException as e:\n",
    "        return None"
   ]
  },
  {
   "cell_type": "code",
   "execution_count": 7,
   "id": "e91cb640",
   "metadata": {},
   "outputs": [
    {
     "name": "stdout",
     "output_type": "stream",
     "text": [
      "# Policies\n",
      "\n",
      "## Violations\n",
      "\n",
      "* [RHCOP\\-COMBINE\\-00001: Namespace has a NetworkPolicy](#rhcop-combine-00001-namespace-has-a-networkpolicy)\n",
      "* [RHCOP\\-COMBINE\\-00002: Namespace has a ResourceQuota](#rhcop-combine-00002-namespace-has-a-resourcequota)\n",
      "* [RHCOP\\-OCP\\_BESTPRACT\\-00001: Common k8s labels are set](#rhcop-ocp_bestpract-00001-common-k8s-labels-are-set)\n",
      "* [RHCOP\\-OCP\\_BESTPRACT\\-00002: Container env has CONTAINER\\_MAX\\_MEMORY set](#rhcop-ocp_bestpract-00002-container-env-has-container_max_mem\n"
     ]
    },
    {
     "name": "stderr",
     "output_type": "stream",
     "text": [
      "/opt/homebrew/anaconda3/lib/python3.12/site-packages/urllib3/connectionpool.py:1099: InsecureRequestWarning: Unverified HTTPS request is being made to host 'raw.githubusercontent.com'. Adding certificate verification is strongly advised. See: https://urllib3.readthedocs.io/en/latest/advanced-usage.html#tls-warnings\n",
      "  warnings.warn(\n"
     ]
    }
   ],
   "source": [
    "# Target URL\n",
    "target_url = \"https://github.com/redhat-cop/rego-policies/blob/main/POLICIES.md\"\n",
    "\n",
    "# Fetch the page content\n",
    "page_content = fetch_github_page(target_url)\n",
    "\n",
    "if page_content:\n",
    "    print(page_content[:500])\n",
    "else:\n",
    "    print(\"Failed to fetch page content\")\n",
    "\n"
   ]
  },
  {
   "cell_type": "code",
   "execution_count": 8,
   "id": "4426246c",
   "metadata": {},
   "outputs": [],
   "source": [
    "# Step 3: Parse and extract Rego policy codes\n",
    "def extract_rego_policies(content):\n",
    "    \"\"\"\n",
    "    Extract Rego policy codes from markdown content\n",
    "    \"\"\"\n",
    "    if not content:\n",
    "        return []\n",
    "    \n",
    "    policies = []\n",
    "    \n",
    "    code_block_pattern = r'```(?:rego)?\\s*\\n(.*?)\\n```'\n",
    "    \n",
    "    # Find all code blocks\n",
    "    code_blocks = re.findall(code_block_pattern, content, re.DOTALL | re.IGNORECASE)\n",
    "    \n",
    "    \n",
    "    for i, block in enumerate(code_blocks):\n",
    "        # Clean up the block\n",
    "        block = block.strip()\n",
    "        \n",
    "        policy_name = 'policy' + str(i)\n",
    "        policies.append({\n",
    "            'name': policy_name,\n",
    "            'content': block,\n",
    "            'index': i\n",
    "        })\n",
    "    \n",
    "    return policies\n"
   ]
  },
  {
   "cell_type": "code",
   "execution_count": 9,
   "id": "15d027ff",
   "metadata": {},
   "outputs": [
    {
     "data": {
      "text/plain": [
       "'package combine.namespace_has_networkpolicy\\n\\nimport future.keywords.in\\n\\nimport data.lib.konstraint.core as konstraint_core\\n\\nviolation[msg] {\\n  some manifests in input\\n  some namespace in manifests\\n\\n  lower(namespace.apiVersion) == \"v1\"\\n  lower(namespace.kind) == \"namespace\"\\n\\n  not _has_networkpolicy(manifests)\\n\\n  msg := konstraint_core.format_with_id(sprintf(\"%s/%s does not have a networking.k8s.io/v1:NetworkPolicy. See: https://docs.openshift.com/container-platform/4.6/networking/network_policy/about-network-policy.html\", [namespace.kind, namespace.metadata.name]), \"RHCOP-COMBINE-00001\")\\n}\\n\\n_has_networkpolicy(manifests) {\\n  some current in manifests\\n\\n  lower(current.apiVersion) == \"networking.k8s.io/v1\"\\n  lower(current.kind) == \"networkpolicy\"\\n}'"
      ]
     },
     "execution_count": 9,
     "metadata": {},
     "output_type": "execute_result"
    }
   ],
   "source": [
    "rego_policies = extract_rego_policies(page_content)\n",
    "rego_policies[0]['content']"
   ]
  },
  {
   "cell_type": "code",
   "execution_count": 16,
   "id": "65a6aadc",
   "metadata": {},
   "outputs": [],
   "source": [
    "# Create data directory if it doesn't exist\n",
    "data_dir = Path(\"data\")\n",
    "data_dir.mkdir(exist_ok=True)\n",
    "\n",
    "# Write each policy to a separate .rego file\n",
    "for i, policy in enumerate(rego_policies):\n",
    "    filename = f\"policy_{i}.rego\"\n",
    "    filepath = data_dir / filename\n",
    "    \n",
    "    with open(filepath, 'w') as f:\n",
    "        f.write(policy['content'])"
   ]
  },
  {
   "cell_type": "code",
   "execution_count": 50,
   "id": "95474b1b",
   "metadata": {},
   "outputs": [],
   "source": [
    "# content= '_source: [policy/podman/images/image_size_not_greater_than](policy/podman/images/image_size_not_greater_than)_'\n",
    "# source_pattern = r'^_source:\\s*\\[(.*)\\]'\n",
    "    \n",
    "# # Find all source lines\n",
    "# source_lines = re.findall(source_pattern, page_content, re.MULTILINE)\n",
    "# source_lines\n"
   ]
  },
  {
   "cell_type": "code",
   "execution_count": 49,
   "id": "0efeffa7",
   "metadata": {},
   "outputs": [
    {
     "name": "stdout",
     "output_type": "stream",
     "text": [
      "[{'index': 0, 'full_path': '/Users/avalappi/Documents/ET/DS/rego-policies/policy/combine/namespace_has_networkpolicy/test_data/unit/'}, {'index': 1, 'full_path': '/Users/avalappi/Documents/ET/DS/rego-policies/policy/combine/namespace_has_resourcequota/test_data/unit/'}, {'index': 2, 'full_path': '/Users/avalappi/Documents/ET/DS/rego-policies/policy/ocp/bestpractices/common_k8s_labels_notset/test_data/unit/'}, {'index': 3, 'full_path': '/Users/avalappi/Documents/ET/DS/rego-policies/policy/ocp/bestpractices/container_env_maxmemory_notset/test_data/unit/'}, {'index': 4, 'full_path': '/Users/avalappi/Documents/ET/DS/rego-policies/policy/ocp/bestpractices/container_image_latest/test_data/unit/'}, {'index': 5, 'full_path': '/Users/avalappi/Documents/ET/DS/rego-policies/policy/ocp/bestpractices/container_image_unknownregistries/test_data/unit/'}, {'index': 6, 'full_path': '/Users/avalappi/Documents/ET/DS/rego-policies/policy/ocp/bestpractices/container_java_xmx_set/test_data/unit/'}, {'index': 7, 'full_path': '/Users/avalappi/Documents/ET/DS/rego-policies/policy/ocp/bestpractices/container_labelkey_inconsistent/test_data/unit/'}, {'index': 8, 'full_path': '/Users/avalappi/Documents/ET/DS/rego-policies/policy/ocp/bestpractices/container_liveness_readinessprobe_equal/test_data/unit/'}, {'index': 9, 'full_path': '/Users/avalappi/Documents/ET/DS/rego-policies/policy/ocp/bestpractices/container_livenessprobe_notset/test_data/unit/'}, {'index': 10, 'full_path': '/Users/avalappi/Documents/ET/DS/rego-policies/policy/ocp/bestpractices/container_readinessprobe_notset/test_data/unit/'}, {'index': 11, 'full_path': '/Users/avalappi/Documents/ET/DS/rego-policies/policy/ocp/bestpractices/container_resources_limits_cpu_set/test_data/unit/'}, {'index': 12, 'full_path': '/Users/avalappi/Documents/ET/DS/rego-policies/policy/ocp/bestpractices/container_resources_limits_memory_greater_than/test_data/unit/'}, {'index': 13, 'full_path': '/Users/avalappi/Documents/ET/DS/rego-policies/policy/ocp/bestpractices/container_resources_limits_memory_notset/test_data/unit/'}, {'index': 14, 'full_path': '/Users/avalappi/Documents/ET/DS/rego-policies/policy/ocp/bestpractices/container_resources_memoryunit_incorrect/test_data/unit/'}, {'index': 15, 'full_path': '/Users/avalappi/Documents/ET/DS/rego-policies/policy/ocp/bestpractices/container_resources_requests_cpuunit_incorrect/test_data/unit/'}, {'index': 16, 'full_path': '/Users/avalappi/Documents/ET/DS/rego-policies/policy/ocp/bestpractices/container_resources_requests_memory_greater_than/test_data/unit/'}, {'index': 17, 'full_path': '/Users/avalappi/Documents/ET/DS/rego-policies/policy/ocp/bestpractices/container_secret_mounted_envs/test_data/unit/'}, {'index': 18, 'full_path': '/Users/avalappi/Documents/ET/DS/rego-policies/policy/ocp/bestpractices/container_volumemount_inconsistent_path/test_data/unit/'}, {'index': 19, 'full_path': '/Users/avalappi/Documents/ET/DS/rego-policies/policy/ocp/bestpractices/container_volumemount_missing/test_data/unit/'}, {'index': 20, 'full_path': '/Users/avalappi/Documents/ET/DS/rego-policies/policy/ocp/bestpractices/deploymentconfig_triggers_notset/test_data/unit/'}, {'index': 21, 'full_path': '/Users/avalappi/Documents/ET/DS/rego-policies/policy/ocp/bestpractices/pod_hostnetwork/test_data/unit/'}, {'index': 22, 'full_path': '/Users/avalappi/Documents/ET/DS/rego-policies/policy/ocp/bestpractices/pod_replicas_below_one/test_data/unit/'}, {'index': 23, 'full_path': '/Users/avalappi/Documents/ET/DS/rego-policies/policy/ocp/bestpractices/pod_replicas_not_odd/test_data/unit/'}, {'index': 24, 'full_path': '/Users/avalappi/Documents/ET/DS/rego-policies/policy/ocp/bestpractices/rolebinding_roleref_apigroup_notset/test_data/unit/'}, {'index': 25, 'full_path': '/Users/avalappi/Documents/ET/DS/rego-policies/policy/ocp/bestpractices/rolebinding_roleref_kind_notset/test_data/unit/'}, {'index': 26, 'full_path': '/Users/avalappi/Documents/ET/DS/rego-policies/policy/ocp/bestpractices/route_tls_termination_notset/test_data/unit/'}, {'index': 27, 'full_path': '/Users/avalappi/Documents/ET/DS/rego-policies/policy/ocp/bestpractices/pod_antiaffinity_notset/test_data/unit/'}, {'index': 28, 'full_path': '/Users/avalappi/Documents/ET/DS/rego-policies/policy/ocp/bestpractices/deploymentconfig_triggers_containername/test_data/unit/'}, {'index': 29, 'full_path': '/Users/avalappi/Documents/ET/DS/rego-policies/policy/ocp/deprecated/ocp3_11/buildconfig_v1/test_data/unit/'}, {'index': 30, 'full_path': '/Users/avalappi/Documents/ET/DS/rego-policies/policy/ocp/deprecated/ocp3_11/deploymentconfig_v1/test_data/unit/'}, {'index': 31, 'full_path': '/Users/avalappi/Documents/ET/DS/rego-policies/policy/ocp/deprecated/ocp3_11/imagestream_v1/test_data/unit/'}, {'index': 32, 'full_path': '/Users/avalappi/Documents/ET/DS/rego-policies/policy/ocp/deprecated/ocp3_11/projectrequest_v1/test_data/unit/'}, {'index': 33, 'full_path': '/Users/avalappi/Documents/ET/DS/rego-policies/policy/ocp/deprecated/ocp3_11/rolebinding_v1/test_data/unit/'}, {'index': 34, 'full_path': '/Users/avalappi/Documents/ET/DS/rego-policies/policy/ocp/deprecated/ocp3_11/route_v1/test_data/unit/'}, {'index': 35, 'full_path': '/Users/avalappi/Documents/ET/DS/rego-policies/policy/ocp/deprecated/ocp3_11/securitycontextconstraints_v1/test_data/unit/'}, {'index': 36, 'full_path': '/Users/avalappi/Documents/ET/DS/rego-policies/policy/ocp/deprecated/ocp3_11/template_v1/test_data/unit/'}, {'index': 37, 'full_path': '/Users/avalappi/Documents/ET/DS/rego-policies/policy/ocp/deprecated/ocp4_1/buildconfig_custom_strategy/test_data/unit/'}, {'index': 38, 'full_path': '/Users/avalappi/Documents/ET/DS/rego-policies/policy/ocp/deprecated/ocp4_2/authorization_openshift/test_data/unit/'}, {'index': 39, 'full_path': '/Users/avalappi/Documents/ET/DS/rego-policies/policy/ocp/deprecated/ocp4_2/automationbroker_v1alpha1/test_data/unit/'}, {'index': 40, 'full_path': '/Users/avalappi/Documents/ET/DS/rego-policies/policy/ocp/deprecated/ocp4_2/catalogsourceconfigs_v1/test_data/unit/'}, {'index': 41, 'full_path': '/Users/avalappi/Documents/ET/DS/rego-policies/policy/ocp/deprecated/ocp4_2/catalogsourceconfigs_v2/test_data/unit/'}, {'index': 42, 'full_path': '/Users/avalappi/Documents/ET/DS/rego-policies/policy/ocp/deprecated/ocp4_2/operatorsources_v1/test_data/unit/'}, {'index': 43, 'full_path': '/Users/avalappi/Documents/ET/DS/rego-policies/policy/ocp/deprecated/ocp4_2/osb_v1/test_data/unit/'}, {'index': 44, 'full_path': '/Users/avalappi/Documents/ET/DS/rego-policies/policy/ocp/deprecated/ocp4_2/servicecatalog_v1beta1/test_data/unit/'}, {'index': 45, 'full_path': '/Users/avalappi/Documents/ET/DS/rego-policies/policy/ocp/deprecated/ocp4_3/buildconfig_jenkinspipeline_strategy/test_data/unit/'}, {'index': 46, 'full_path': '/Users/avalappi/Documents/ET/DS/rego-policies/policy/ocp/requiresinventory/deployment_has_matching_poddisruptionbudget/test_data/unit/'}, {'index': 47, 'full_path': '/Users/avalappi/Documents/ET/DS/rego-policies/policy/ocp/requiresinventory/deployment_has_matching_pvc/test_data/unit/'}, {'index': 48, 'full_path': '/Users/avalappi/Documents/ET/DS/rego-policies/policy/ocp/requiresinventory/deployment_has_matching_service/test_data/unit/'}, {'index': 49, 'full_path': '/Users/avalappi/Documents/ET/DS/rego-policies/policy/ocp/requiresinventory/deployment_has_matching_serviceaccount/test_data/unit/'}, {'index': 50, 'full_path': '/Users/avalappi/Documents/ET/DS/rego-policies/policy/ocp/requiresinventory/service_has_matching_servicemonitor/test_data/unit/'}, {'index': 51, 'full_path': '/Users/avalappi/Documents/ET/DS/rego-policies/policy/podman/history/contains_layer/test_data/unit/'}, {'index': 52, 'full_path': '/Users/avalappi/Documents/ET/DS/rego-policies/policy/podman/images/image_size_not_greater_than/test_data/unit/'}]\n"
     ]
    }
   ],
   "source": [
    "def extract_source_urls(content):\n",
    "    if not content:\n",
    "        return []\n",
    "    \n",
    "    source_urls = []\n",
    "    \n",
    "    # Pattern to match source lines that follow code blocks\n",
    "    # Looking for lines that start with \"_source:\" followed by a path in square brackets\n",
    "    source_pattern = r'^_source:\\s*\\[(.*)\\]'\n",
    "    \n",
    "    # Find all source lines\n",
    "    source_lines = re.findall(source_pattern, content, re.MULTILINE)\n",
    "    for i, source_path in enumerate(source_lines):\n",
    "        # Clean up the path\n",
    "        source_path = source_path.strip()\n",
    "\n",
    "        full_path = f\"/Users/avalappi/Documents/ET/DS/rego-policies/{source_path}/test_data/unit/\"\n",
    "        \n",
    "        source_urls.append({\n",
    "            'index': i,\n",
    "            'full_path': full_path\n",
    "        })\n",
    "    \n",
    "    return source_urls\n",
    "\n",
    "# Extract source URLs from the fetched content\n",
    "if page_content:\n",
    "    source_urls = extract_source_urls(page_content)\n",
    "    print(source_urls)"
   ]
  },
  {
   "cell_type": "code",
   "execution_count": 58,
   "id": "63719479",
   "metadata": {},
   "outputs": [],
   "source": [
    "from pathlib import Path\n",
    "import shutil\n",
    "data_dir = Path(\"test_data\")\n",
    "for i, source_path in enumerate(source_urls):\n",
    "    folder_path = Path(os.path.join(os.getcwd(), source_path['full_path']))\n",
    "    # text_files = list(folder_path.glob('*.json'))\n",
    "    test_file = os.listdir(folder_path)\n",
    "    # print(test_file[0])\n",
    "    filename = f\"policy_{i}_{test_file[0]}\"\n",
    "    filepath = data_dir / filename\n",
    "    \n",
    "    shutil.copy(folder_path / test_file[0], filepath)"
   ]
  },
  {
   "cell_type": "markdown",
   "id": "f24ffec9",
   "metadata": {},
   "source": [
    "### Reformatting the input yaml files"
   ]
  },
  {
   "cell_type": "code",
   "execution_count": 1,
   "id": "5ff5ba8c",
   "metadata": {},
   "outputs": [
    {
     "name": "stdout",
     "output_type": "stream",
     "text": [
      "Converted 53 files to test_data_reformatted\n"
     ]
    }
   ],
   "source": [
    "import yaml\n",
    "import json\n",
    "from pathlib import Path\n",
    "\n",
    "# Convert YAML test data files to JSON format with 'input' wrapper\n",
    "def convert_test_data():\n",
    "    test_data_dir = Path(\"test_data\")\n",
    "    output_dir = Path(\"test_data_reformatted\")\n",
    "    output_dir.mkdir(exist_ok=True)\n",
    "    \n",
    "    converted = 0\n",
    "    for file_path in test_data_dir.glob(\"*\"):\n",
    "        try:\n",
    "            if file_path.suffix in ['.yml', '.yaml']:\n",
    "                with open(file_path, 'r') as f:\n",
    "                    yaml_content = yaml.safe_load(f)\n",
    "                json_structure = {\"input\": yaml_content}\n",
    "            elif file_path.suffix == '.json':\n",
    "                with open(file_path, 'r') as f:\n",
    "                    json_content = json.load(f)\n",
    "                json_structure = {\"input\": json_content}\n",
    "            else:\n",
    "                continue\n",
    "                \n",
    "            output_file = output_dir / f\"{file_path.stem}.json\"\n",
    "            with open(output_file, 'w') as f:\n",
    "                json.dump(json_structure, f, indent=2)\n",
    "            converted += 1\n",
    "        except Exception as e:\n",
    "            print(f\"Error converting {file_path.name}: {e}\")\n",
    "    \n",
    "    print(f\"Converted {converted} files to {output_dir}\")\n",
    "\n",
    "convert_test_data()\n"
   ]
  },
  {
   "cell_type": "code",
   "execution_count": null,
   "id": "e9691fff",
   "metadata": {},
   "outputs": [],
   "source": []
  }
 ],
 "metadata": {
  "kernelspec": {
   "display_name": "base",
   "language": "python",
   "name": "python3"
  },
  "language_info": {
   "codemirror_mode": {
    "name": "ipython",
    "version": 3
   },
   "file_extension": ".py",
   "mimetype": "text/x-python",
   "name": "python",
   "nbconvert_exporter": "python",
   "pygments_lexer": "ipython3",
   "version": "3.12.7"
  }
 },
 "nbformat": 4,
 "nbformat_minor": 5
}
